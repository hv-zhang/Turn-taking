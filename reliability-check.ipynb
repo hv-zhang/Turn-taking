{
 "cells": [
  {
   "cell_type": "markdown",
   "id": "86fbda6a-8611-443c-a82b-c1c5911bfeef",
   "metadata": {},
   "source": [
    "## ICC"
   ]
  },
  {
   "cell_type": "code",
   "execution_count": 2,
   "id": "3bd0ae95-e5a9-48a6-b1a5-fc65d7d2927e",
   "metadata": {
    "tags": []
   },
   "outputs": [
    {
     "name": "stdout",
     "output_type": "stream",
     "text": [
      "Index(['sub', 'onset', 'offset', 'cat', 'tier', 'reli'], dtype='object')\n",
      "    sub     rater  rating\n",
      "0     1  original     175\n",
      "1     1      reli     184\n",
      "0    10  original      85\n",
      "1    10      reli      81\n",
      "0    18  original      26\n",
      "1    18      reli      52\n",
      "0    52  original      63\n",
      "1    52      reli      47\n",
      "0    57  original      21\n",
      "1    57      reli      12\n",
      "0    59  original      42\n",
      "1    59      reli       1\n",
      "0   164  original      17\n",
      "1   164      reli      20\n",
      "0  1001  original      33\n",
      "1  1001      reli      36\n",
      "0  1004  original      69\n",
      "1  1004      reli      71\n",
      "0.9675780879141745\n"
     ]
    }
   ],
   "source": [
    "import glob     # Import glob to easily loop over files\n",
    "import pympi    # Import pympi to work with elan files\n",
    "import os\n",
    "import pprint as pp\n",
    "import pandas as pd\n",
    "import numpy as np\n",
    "import pingouin as pg\n",
    "\n",
    "# data = pd.read_csv(\"tt_ab_reli.csv\", index_col=0)\n",
    "data = pd.read_csv(\"tt_ab_reli.csv\")\n",
    "subjects = [1, 10, 18, 52, 57, 59, 164, 1001, 1004]\n",
    "columns = ['sub','rater','rating']\n",
    "#d = data.replace([\"V\", \"CVCV\",\"VCV\", \"CV\", \"VCVC\", \"VC\", \"CVC\"], [\"V\",\"V\",\"V\",\"V\",\"V\",\"V\",\"V\"])\n",
    "print(data.columns)\n",
    "result = pd.DataFrame(columns=columns)\n",
    "for sub in subjects:\n",
    "    cols = [\"sub\", \"rater\", \"rating\"]\n",
    "    df = pd.DataFrame(0, index=np.arange(2), columns= cols)\n",
    "    df[\"sub\"] = sub\n",
    "    df[\"rater\"] = [\"original\", \"reli\"]\n",
    "    \n",
    "\n",
    "    sub_frame = data[(data[\"sub\"] == sub)&(data[\"tier\"] == \"Caregiver voc\")]\n",
    "#     sub_frame = data[(data[\"sub\"] == sub)&(data[\"tier\"] == \"Infant voc\")]\n",
    "#     sub_frame = data[(data[\"sub\"] == sub)]\n",
    "    rating1 = len(sub_frame[sub_frame[\"reli\"] == \"original\"])\n",
    "    rating2 = len(sub_frame[sub_frame[\"reli\"] == \"reli\"])\n",
    "    df[\"rating\"] = [rating1, rating2]\n",
    "    result = result._append(df)\n",
    "\n",
    "result[\"rating\"] = pd.to_numeric(result[\"rating\"])\n",
    "print(result)\n",
    "icc = pg.intraclass_corr(data = result, targets=\"sub\", raters=\"rater\", ratings = \"rating\")\n",
    "icc = icc.set_index('Type')\n",
    "icc = icc.loc[\"ICC3k\",\"ICC\"]\n",
    "print(icc)"
   ]
  },
  {
   "cell_type": "markdown",
   "id": "a8244696-3911-4b53-b84a-493158cc86f0",
   "metadata": {},
   "source": [
    "## Cohen's kappa"
   ]
  },
  {
   "cell_type": "code",
   "execution_count": 3,
   "id": "2759dd06-4bd7-43e5-890c-da000915221d",
   "metadata": {},
   "outputs": [],
   "source": [
    "import math\n",
    "import warnings\n",
    "import numpy as np\n",
    "import pandas as pd\n",
    "from scipy import stats\n",
    "from statistics import mean\n",
    "warnings.filterwarnings('ignore')\n",
    "import scipy.stats\n",
    "import os\n",
    "from sklearn.metrics import cohen_kappa_score\n",
    "\n",
    "def reli_cal(data, subjects, reli1, reli2, label):\n",
    "    \n",
    "    data = pd.DataFrame(data=data)\n",
    "    data[\"onset\"] = data[\"onset\"]*29.97\n",
    "    data[\"offset\"] = data[\"offset\"]*29.97\n",
    "    data.onset = data.onset.round(0)\n",
    "    data.offset = data.offset.round(0)\n",
    "    data[\"cat\"] = data[\"cat\"]\n",
    "    print(data)\n",
    "\n",
    "    kappa = []\n",
    "    for sub in subjects:\n",
    "        cols = [\"sub\", \"coder1\", \"coder2\"]\n",
    "        df = pd.DataFrame(0, index=np.arange(12*60*29.97), columns= cols)\n",
    "        df[\"sub\"] = sub\n",
    "    \n",
    "        sub_frame = data[data[\"sub\"] == sub] \n",
    "        for i, row in sub_frame.iterrows():\n",
    "            if (row[\"reli\"] == reli1):\n",
    "                on = float(row[\"onset\"])\n",
    "                off = float(row[\"offset\"])\n",
    "                df.loc[on:off,\"coder1\"] = \"A\"\n",
    "            if (row[\"reli\"] == reli2):\n",
    "                on = float(row[\"onset\"])\n",
    "                off = float(row[\"offset\"])\n",
    "                df.loc[on:off,\"coder2\"] = \"A\"\n",
    "            df = df.replace(0, \"None\")\n",
    "    \n",
    "        labeler1 = df[\"coder1\"].astype(str)\n",
    "        labeler2 = df[\"coder2\"].astype(str)\n",
    "        ck = cohen_kappa_score(labeler1, labeler2,\n",
    "                  labels= label)\n",
    "        kappa.append(ck)\n",
    "    print(kappa)\n",
    "\n",
    "    print(\"Mean kappa value is\", np.mean(kappa))"
   ]
  },
  {
   "cell_type": "code",
   "execution_count": 4,
   "id": "76a3e98d-0a44-40ed-95d1-ea0814faa9e1",
   "metadata": {},
   "outputs": [
    {
     "name": "stdout",
     "output_type": "stream",
     "text": [
      "       sub    onset   offset  \\\n",
      "0        1     23.0     51.0   \n",
      "1        1     24.0     51.0   \n",
      "2        1     51.0     78.0   \n",
      "3        1     51.0     80.0   \n",
      "4        1     78.0    138.0   \n",
      "...    ...      ...      ...   \n",
      "3505  1004  18088.0  18140.0   \n",
      "3506  1004  18092.0  18145.0   \n",
      "3507  1004  18178.0  18425.0   \n",
      "3508  1004  18180.0  18399.0   \n",
      "3509  1004  18412.0  18432.0   \n",
      "\n",
      "                                                    cat           tier  \\\n",
      "0                                  questi piattini (RE)  Caregiver voc   \n",
      "1                                 questi piattini. (RE)  Caregiver voc   \n",
      "2                                 mescoli la pappa (DA)  Caregiver voc   \n",
      "3                                mescoli la pappa. (DA)  Caregiver voc   \n",
      "4     e gliene dai un pochino alla bambolina forse? ...  Caregiver voc   \n",
      "...                                                 ...            ...   \n",
      "3505           Guarda guarda dove passa (ride)\\t(DA AL)  Caregiver voc   \n",
      "3506           Guarda guarda dove passa (ride)\\t(DA AL)  Caregiver voc   \n",
      "3507    Vieni a vedere viene a vedere dove passa (DA C)  Caregiver voc   \n",
      "3508  xxx Vieni a vedere viene a vedere dove passa (...  Caregiver voc   \n",
      "3509                                                xxx     Infant voc   \n",
      "\n",
      "          reli  \n",
      "0     original  \n",
      "1         reli  \n",
      "2     original  \n",
      "3         reli  \n",
      "4     original  \n",
      "...        ...  \n",
      "3505  original  \n",
      "3506      reli  \n",
      "3507  original  \n",
      "3508      reli  \n",
      "3509  original  \n",
      "\n",
      "[3510 rows x 6 columns]\n",
      "[0.7605645974598364, 0.8263882118889677, 0.7473952743178309, 0.736127030198964, 0.6791774408202494, 0.6602652088656251, 0.45282777118539297, 0.8273221741864728, 0.8831106167430618]\n",
      "Mean kappa value is 0.7303531472962668\n"
     ]
    }
   ],
   "source": [
    "data = pd.read_csv(\"tt_ab_reli.csv\")\n",
    "# d = data.replace([\"V\", \"CVCV\",\"VCV\", \"CV\", \"VCVC\", \"VC\", \"CVC\"], [\"V\",\"V\",\"V\",\"V\",\"V\",\"V\",\"V\"])\n",
    "subjects = [1, 10, 18, 52, 57, 59, 164, 1001, 1004]\n",
    "reli1 = \"original\"\n",
    "reli2 = \"reli\"\n",
    "label = [\"A\", \"None\"] \n",
    "reli_cal(data, subjects, reli1, reli2, label) "
   ]
  },
  {
   "cell_type": "code",
   "execution_count": null,
   "id": "d3e3e827",
   "metadata": {},
   "outputs": [],
   "source": []
  }
 ],
 "metadata": {
  "kernelspec": {
   "display_name": "Python 3 (ipykernel)",
   "language": "python",
   "name": "python3"
  },
  "language_info": {
   "codemirror_mode": {
    "name": "ipython",
    "version": 3
   },
   "file_extension": ".py",
   "mimetype": "text/x-python",
   "name": "python",
   "nbconvert_exporter": "python",
   "pygments_lexer": "ipython3",
   "version": "3.11.4"
  }
 },
 "nbformat": 4,
 "nbformat_minor": 5
}
